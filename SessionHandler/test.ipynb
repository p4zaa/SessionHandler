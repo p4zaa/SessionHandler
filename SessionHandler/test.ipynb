{
 "cells": [
  {
   "cell_type": "code",
   "execution_count": 6,
   "metadata": {},
   "outputs": [
    {
     "name": "stdout",
     "output_type": "stream",
     "text": [
      "Note: you may need to restart the kernel to use updated packages.\n"
     ]
    }
   ],
   "source": [
    "pip install -q mmh3"
   ]
  },
  {
   "cell_type": "code",
   "execution_count": 7,
   "metadata": {},
   "outputs": [],
   "source": [
    "from SessionHandler import Session\n",
    "import polars as pl"
   ]
  },
  {
   "cell_type": "code",
   "execution_count": 8,
   "metadata": {},
   "outputs": [],
   "source": [
    "import mmh3\n",
    "import polars as pl\n",
    "\n",
    "def hash_pl_dataframe(df: pl.DataFrame, seed=42) -> str:\n",
    "    \"\"\"Hash a polars DataFrame. Due to the behaviour of pl.DataFrame.hash_rows\n",
    "    this will only be consistent given a polars version.\n",
    "    Args:\n",
    "        df (pl.DataFrame): polars DataFrame to be hashed.\n",
    "        seed (int, optional): Seed for the hash function.\n",
    "    Returns:\n",
    "        str: Hash of the polars DataFrame.\n",
    "    \"\"\"\n",
    "    row_hashes = df.hash_rows(seed=seed)\n",
    "    hasher = mmh3.mmh3_x64_128(seed=seed)\n",
    "    for row_hash in row_hashes:\n",
    "        hasher.update(row_hash.to_bytes(64, \"little\"))\n",
    "    return hasher.digest().hex()"
   ]
  },
  {
   "cell_type": "code",
   "execution_count": 9,
   "metadata": {},
   "outputs": [
    {
     "name": "stdout",
     "output_type": "stream",
     "text": [
      "{'a': 1, 'b': 2}\n",
      "{'a': 10, 'b': 2}\n"
     ]
    }
   ],
   "source": [
    "session = Session(max_versions=3)\n",
    "\n",
    "session.set('a', 1)\n",
    "session.set('b', 2)\n",
    "print(session.show())  # {'a': 1, 'b': 2}\n",
    "\n",
    "session.set('a', 10)\n",
    "print(session.show())  # {'a': 10, 'b': 2}\n"
   ]
  },
  {
   "cell_type": "code",
   "execution_count": 16,
   "metadata": {},
   "outputs": [
    {
     "name": "stdout",
     "output_type": "stream",
     "text": [
      "shape: (3, 3)\n",
      "┌─────┬─────┬──────┐\n",
      "│ a   ┆ b   ┆ c    │\n",
      "│ --- ┆ --- ┆ ---  │\n",
      "│ i64 ┆ i64 ┆ str  │\n",
      "╞═════╪═════╪══════╡\n",
      "│ 1   ┆ 3   ┆ gg   │\n",
      "│ 2   ┆ 4   ┆ ez   │\n",
      "│ 3   ┆ 5   ┆ go0g │\n",
      "└─────┴─────┴──────┘\n"
     ]
    }
   ],
   "source": [
    "dummy = {\n",
    "    'a': [1, 2, 3],\n",
    "    'b': [3, 4, 5],\n",
    "    'c': ['gg', 'ez', 'go0g']\n",
    "}\n",
    "dummy_df = pl.DataFrame(dummy)\n",
    "print(dummy_df)"
   ]
  },
  {
   "cell_type": "code",
   "execution_count": 11,
   "metadata": {},
   "outputs": [
    {
     "data": {
      "text/plain": [
       "polars.dataframe.frame.DataFrame"
      ]
     },
     "execution_count": 11,
     "metadata": {},
     "output_type": "execute_result"
    }
   ],
   "source": [
    "type(dummy_df)"
   ]
  },
  {
   "cell_type": "code",
   "execution_count": 23,
   "metadata": {},
   "outputs": [
    {
     "name": "stdout",
     "output_type": "stream",
     "text": [
      "Hash function for <class 'polars.dataframe.frame.DataFrame'> has been added/modified.\n"
     ]
    }
   ],
   "source": [
    "session.set_hash_func(data_type=pl.DataFrame, hash_func=hash_pl_dataframe)"
   ]
  },
  {
   "cell_type": "code",
   "execution_count": 24,
   "metadata": {},
   "outputs": [],
   "source": [
    "session.set('data', dummy_df)"
   ]
  },
  {
   "cell_type": "code",
   "execution_count": 18,
   "metadata": {},
   "outputs": [
    {
     "data": {
      "text/plain": [
       "'e60190ded320cc3105b8ec6736bdabad'"
      ]
     },
     "execution_count": 18,
     "metadata": {},
     "output_type": "execute_result"
    }
   ],
   "source": [
    "hash_pl_dataframe(dummy_df)"
   ]
  },
  {
   "cell_type": "code",
   "execution_count": 25,
   "metadata": {},
   "outputs": [
    {
     "data": {
      "text/plain": [
       "{'_data': {'a': 10,\n",
       "  'b': 2,\n",
       "  'data': shape: (3, 3)\n",
       "  ┌─────┬─────┬──────┐\n",
       "  │ a   ┆ b   ┆ c    │\n",
       "  │ --- ┆ --- ┆ ---  │\n",
       "  │ i64 ┆ i64 ┆ str  │\n",
       "  ╞═════╪═════╪══════╡\n",
       "  │ 1   ┆ 3   ┆ gg   │\n",
       "  │ 2   ┆ 4   ┆ ez   │\n",
       "  │ 3   ┆ 5   ┆ go0g │\n",
       "  └─────┴─────┴──────┘},\n",
       " '_hashes': {'a': '1366d1c7cf5b1c1bf1470af568d02537',\n",
       "  'b': '007d8c6c24a357e859f4873cf1e8a84a',\n",
       "  'data': 'e60190ded320cc3105b8ec6736bdabad'},\n",
       " '_key_history': {'a': [None, 1],\n",
       "  'b': [None],\n",
       "  'data': [shape: (3, 3)\n",
       "   ┌─────┬─────┬─────┐\n",
       "   │ a   ┆ b   ┆ c   │\n",
       "   │ --- ┆ --- ┆ --- │\n",
       "   │ i64 ┆ i64 ┆ str │\n",
       "   ╞═════╪═════╪═════╡\n",
       "   │ 1   ┆ 3   ┆ gg  │\n",
       "   │ 2   ┆ 4   ┆ ez  │\n",
       "   │ 3   ┆ 5   ┆ gog │\n",
       "   └─────┴─────┴─────┘,\n",
       "   shape: (3, 3)\n",
       "   ┌─────┬─────┬──────┐\n",
       "   │ a   ┆ b   ┆ c    │\n",
       "   │ --- ┆ --- ┆ ---  │\n",
       "   │ i64 ┆ i64 ┆ str  │\n",
       "   ╞═════╪═════╪══════╡\n",
       "   │ 1   ┆ 3   ┆ gg   │\n",
       "   │ 2   ┆ 4   ┆ ez   │\n",
       "   │ 3   ┆ 5   ┆ go0g │\n",
       "   └─────┴─────┴──────┘,\n",
       "   shape: (3, 3)\n",
       "   ┌─────┬─────┬──────┐\n",
       "   │ a   ┆ b   ┆ c    │\n",
       "   │ --- ┆ --- ┆ ---  │\n",
       "   │ i64 ┆ i64 ┆ str  │\n",
       "   ╞═════╪═════╪══════╡\n",
       "   │ 1   ┆ 3   ┆ gg   │\n",
       "   │ 2   ┆ 4   ┆ ez   │\n",
       "   │ 3   ┆ 5   ┆ go0g │\n",
       "   └─────┴─────┴──────┘]},\n",
       " 'max_versions': 3,\n",
       " 'hash_funcs': {polars.dataframe.frame.DataFrame: <function __main__.hash_pl_dataframe(df: polars.dataframe.frame.DataFrame, seed=42) -> str>}}"
      ]
     },
     "execution_count": 25,
     "metadata": {},
     "output_type": "execute_result"
    }
   ],
   "source": [
    "session.__dict__"
   ]
  },
  {
   "cell_type": "code",
   "execution_count": 40,
   "metadata": {},
   "outputs": [],
   "source": [
    "session.set('data', dummy_df)"
   ]
  },
  {
   "cell_type": "code",
   "execution_count": 41,
   "metadata": {},
   "outputs": [
    {
     "data": {
      "text/html": [
       "<div><style>\n",
       ".dataframe > thead > tr,\n",
       ".dataframe > tbody > tr {\n",
       "  text-align: right;\n",
       "  white-space: pre-wrap;\n",
       "}\n",
       "</style>\n",
       "<small>shape: (3, 3)</small><table border=\"1\" class=\"dataframe\"><thead><tr><th>a</th><th>b</th><th>c</th></tr><tr><td>i64</td><td>i64</td><td>str</td></tr></thead><tbody><tr><td>1</td><td>3</td><td>&quot;gg&quot;</td></tr><tr><td>2</td><td>4</td><td>&quot;ez&quot;</td></tr><tr><td>3</td><td>5</td><td>&quot;go0g&quot;</td></tr></tbody></table></div>"
      ],
      "text/plain": [
       "shape: (3, 3)\n",
       "┌─────┬─────┬──────┐\n",
       "│ a   ┆ b   ┆ c    │\n",
       "│ --- ┆ --- ┆ ---  │\n",
       "│ i64 ┆ i64 ┆ str  │\n",
       "╞═════╪═════╪══════╡\n",
       "│ 1   ┆ 3   ┆ gg   │\n",
       "│ 2   ┆ 4   ┆ ez   │\n",
       "│ 3   ┆ 5   ┆ go0g │\n",
       "└─────┴─────┴──────┘"
      ]
     },
     "execution_count": 41,
     "metadata": {},
     "output_type": "execute_result"
    }
   ],
   "source": [
    "session.get('data')"
   ]
  },
  {
   "cell_type": "code",
   "execution_count": 46,
   "metadata": {},
   "outputs": [
    {
     "name": "stdout",
     "output_type": "stream",
     "text": [
      "No more undos available for key: data\n"
     ]
    }
   ],
   "source": [
    "session.undo('data')"
   ]
  },
  {
   "cell_type": "code",
   "execution_count": 47,
   "metadata": {},
   "outputs": [
    {
     "data": {
      "text/html": [
       "<div><style>\n",
       ".dataframe > thead > tr,\n",
       ".dataframe > tbody > tr {\n",
       "  text-align: right;\n",
       "  white-space: pre-wrap;\n",
       "}\n",
       "</style>\n",
       "<small>shape: (3, 3)</small><table border=\"1\" class=\"dataframe\"><thead><tr><th>a</th><th>b</th><th>c</th></tr><tr><td>i64</td><td>i64</td><td>str</td></tr></thead><tbody><tr><td>1</td><td>3</td><td>&quot;gg&quot;</td></tr><tr><td>2</td><td>4</td><td>&quot;ez&quot;</td></tr><tr><td>3</td><td>5</td><td>&quot;gog&quot;</td></tr></tbody></table></div>"
      ],
      "text/plain": [
       "shape: (3, 3)\n",
       "┌─────┬─────┬─────┐\n",
       "│ a   ┆ b   ┆ c   │\n",
       "│ --- ┆ --- ┆ --- │\n",
       "│ i64 ┆ i64 ┆ str │\n",
       "╞═════╪═════╪═════╡\n",
       "│ 1   ┆ 3   ┆ gg  │\n",
       "│ 2   ┆ 4   ┆ ez  │\n",
       "│ 3   ┆ 5   ┆ gog │\n",
       "└─────┴─────┴─────┘"
      ]
     },
     "execution_count": 47,
     "metadata": {},
     "output_type": "execute_result"
    }
   ],
   "source": [
    "session.get('data')"
   ]
  }
 ],
 "metadata": {
  "kernelspec": {
   "display_name": ".venv",
   "language": "python",
   "name": "python3"
  },
  "language_info": {
   "codemirror_mode": {
    "name": "ipython",
    "version": 3
   },
   "file_extension": ".py",
   "mimetype": "text/x-python",
   "name": "python",
   "nbconvert_exporter": "python",
   "pygments_lexer": "ipython3",
   "version": "3.12.3"
  }
 },
 "nbformat": 4,
 "nbformat_minor": 2
}
